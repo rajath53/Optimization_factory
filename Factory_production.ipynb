{
  "nbformat": 4,
  "nbformat_minor": 0,
  "metadata": {
    "colab": {
      "provenance": []
    },
    "kernelspec": {
      "name": "python3",
      "display_name": "Python 3"
    },
    "language_info": {
      "name": "python"
    }
  },
  "cells": [
    {
      "cell_type": "code",
      "execution_count": 1,
      "metadata": {
        "colab": {
          "base_uri": "https://localhost:8080/"
        },
        "id": "QOkQ1bTbG9XD",
        "outputId": "c88b2433-a293-4594-e794-87bcf6c15a40"
      },
      "outputs": [
        {
          "output_type": "stream",
          "name": "stdout",
          "text": [
            "Looking in indexes: https://pypi.org/simple, https://us-python.pkg.dev/colab-wheels/public/simple/\n",
            "Requirement already satisfied: pulp==1.6.10 in /usr/local/lib/python3.7/dist-packages (1.6.10)\n",
            "Requirement already satisfied: pyparsing>=2.0.1 in /usr/local/lib/python3.7/dist-packages (from pulp==1.6.10) (3.0.9)\n"
          ]
        }
      ],
      "source": [
        "!pip install pulp==1.6.10"
      ]
    },
    {
      "cell_type": "code",
      "source": [
        "import pulp\n",
        "from pulp import LpProblem"
      ],
      "metadata": {
        "id": "ufmY6nw9HNZ-"
      },
      "execution_count": 2,
      "outputs": []
    },
    {
      "cell_type": "code",
      "source": [
        "factory = pulp.LpProblem(\"the desired goal is to\",\n",
        "                         pulp.LpMinimize)"
      ],
      "metadata": {
        "id": "Rp_4yQ0vHgMH"
      },
      "execution_count": 3,
      "outputs": []
    },
    {
      "cell_type": "code",
      "source": [
        "factory"
      ],
      "metadata": {
        "colab": {
          "base_uri": "https://localhost:8080/"
        },
        "id": "Q1u2sr6eJHpb",
        "outputId": "dc0d452f-caf6-42e5-ca04-95d6c0ddb934"
      },
      "execution_count": 4,
      "outputs": [
        {
          "output_type": "execute_result",
          "data": {
            "text/plain": [
              "the desired goal is to:\n",
              "MINIMIZE\n",
              "None\n",
              "VARIABLES"
            ]
          },
          "metadata": {},
          "execution_count": 4
        }
      ]
    },
    {
      "cell_type": "code",
      "source": [
        "P1 = pulp.LpVariable('P1', lowBound=0, cat='Integer') #y1+ \n",
        "P2 = pulp.LpVariable('P2', lowBound=0, cat='Float') #y2-\n",
        "P3 = pulp.LpVariable('P3', lowBound=0, cat='Float') #y2+\n",
        "P4 = pulp.LpVariable('P4', lowBound=0, cat='Float') #y3-\n",
        "P5 = pulp.LpVariable('P5', lowBound=0, cat='Integer') #x1\n",
        "P6 = pulp.LpVariable('P6', lowBound=0, cat='Integer') #x2\n",
        "P7 = pulp.LpVariable('P7', lowBound=0, cat='Integer') #x3\n",
        "P8 = pulp.LpVariable('P8', lowBound=0, cat='Integer') #y1-\n",
        "P9 = pulp.LpVariable('P9', lowBound=0, cat='Float') #y3+"
      ],
      "metadata": {
        "id": "RjWXCvd5JJ5l"
      },
      "execution_count": 5,
      "outputs": []
    },
    {
      "cell_type": "code",
      "source": [
        "#objective function\n",
        "factory +=5*P1+8*P2+12*P3+15*P4,\"z\" "
      ],
      "metadata": {
        "id": "Z2jUmiFdJgnX"
      },
      "execution_count": 6,
      "outputs": []
    },
    {
      "cell_type": "code",
      "source": [
        "#factory"
      ],
      "metadata": {
        "id": "JIjQs1yKKBXq"
      },
      "execution_count": 7,
      "outputs": []
    },
    {
      "cell_type": "code",
      "source": [
        "#constraints\n",
        "factory += 40*P5 + 30*P6 +20*P7 - (P1-P8) == 100, \"C1\"\n",
        "factory += 2*P5 + 4*P6 +3*P7 -(P3-P2) == 10, \"C2\"\n",
        "factory += 5*P5 + 8*P6 +4*P7 -(P9-P4) == 30, \"C3\""
      ],
      "metadata": {
        "id": "n4Rf8n2MKDQv"
      },
      "execution_count": 8,
      "outputs": []
    },
    {
      "cell_type": "code",
      "source": [
        "factory.solve()\n",
        "pulp.LpStatus[factory.status]"
      ],
      "metadata": {
        "colab": {
          "base_uri": "https://localhost:8080/",
          "height": 35
        },
        "id": "FARspcPdMXDG",
        "outputId": "f4cde36d-9089-468e-cdd6-74e7464e9cce"
      },
      "execution_count": 9,
      "outputs": [
        {
          "output_type": "execute_result",
          "data": {
            "text/plain": [
              "'Optimal'"
            ],
            "application/vnd.google.colaboratory.intrinsic+json": {
              "type": "string"
            }
          },
          "metadata": {},
          "execution_count": 9
        }
      ]
    },
    {
      "cell_type": "code",
      "source": [
        "print(\"The optimized solution :\", pulp.value(factory.objective))\n",
        "for variable in factory.variables():\n",
        "  print(variable.name, variable.varValue)"
      ],
      "metadata": {
        "colab": {
          "base_uri": "https://localhost:8080/"
        },
        "id": "mKPxr_NkM869",
        "outputId": "9c032efa-7893-475b-adcc-a683f411c299"
      },
      "execution_count": 10,
      "outputs": [
        {
          "output_type": "stream",
          "name": "stdout",
          "text": [
            "The optimized solution : 114.0\n",
            "P1 0.0\n",
            "P2 0.0\n",
            "P3 2.0\n",
            "P4 6.0\n",
            "P5 0.0\n",
            "P6 3.0\n",
            "P7 0.0\n",
            "P8 10.0\n",
            "P9 0.0\n"
          ]
        }
      ]
    },
    {
      "cell_type": "code",
      "source": [
        "import pandas as pd\n",
        "o = [{'Name':name,'Constraint':c,'shadow price':c.pi,'slack': c.slack} for name,\n",
        "     c in factory.constraints.items()]\n",
        "print(pd.DataFrame(o))"
      ],
      "metadata": {
        "colab": {
          "base_uri": "https://localhost:8080/"
        },
        "id": "Xyx4-b1LNTKY",
        "outputId": "fa5adaeb-390e-46d3-b9d8-fa3fe990b545"
      },
      "execution_count": 11,
      "outputs": [
        {
          "output_type": "stream",
          "name": "stdout",
          "text": [
            "  Name                               Constraint  shadow price  slack\n",
            "0   C1  {P5: 40, P6: 30, P7: 20, P1: -1, P8: 1}           0.0   -0.0\n",
            "1   C2     {P5: 2, P6: 4, P7: 3, P3: -1, P2: 1}         -12.0   -0.0\n",
            "2   C3     {P5: 5, P6: 8, P7: 4, P9: -1, P4: 1}          15.0   -0.0\n"
          ]
        }
      ]
    },
    {
      "cell_type": "code",
      "source": [],
      "metadata": {
        "id": "rV3cCj7nPCp0"
      },
      "execution_count": 11,
      "outputs": []
    }
  ]
}